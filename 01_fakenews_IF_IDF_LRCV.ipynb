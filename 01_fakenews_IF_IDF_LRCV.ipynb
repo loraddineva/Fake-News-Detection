{
 "cells": [
  {
   "cell_type": "markdown",
   "metadata": {},
   "source": [
    "# TF-IDF and LR classifier\n",
    "\n",
    "### 1. Loading Relevant Libraries and Data"
   ]
  },
  {
   "cell_type": "code",
   "execution_count": 79,
   "metadata": {
    "pycharm": {
     "is_executing": true
    }
   },
   "outputs": [
    {
     "name": "stdout",
     "output_type": "stream",
     "text": [
      "Libraries loaded\n"
     ]
    }
   ],
   "source": [
    "#Data processing\n",
    "import pandas as pd #dataframes \n",
    "import numpy as np\n",
    "\n",
    "#Text processing\n",
    "import nltk #Word preprocessing\n",
    "from nltk.stem.porter import PorterStemmer\n",
    "import re #regular expressions\n",
    "from matplotlib import pyplot as mplot\n",
    "\n",
    "# Machine Learning\n",
    "from sklearn.metrics import classification_report\n",
    "from sklearn.model_selection import train_test_split\n",
    "from sklearn.feature_extraction.text import TfidfVectorizer\n",
    "from sklearn.model_selection import train_test_split\n",
    "from sklearn.linear_model import LogisticRegressionCV\n",
    "\n",
    "#Other\n",
    "import pickle\n",
    "from datetime import datetime\n",
    "\n",
    "\n",
    "print(\"Libraries loaded\")"
   ]
  },
  {
   "cell_type": "code",
   "execution_count": 60,
   "metadata": {},
   "outputs": [
    {
     "data": {
      "text/html": [
       "<div>\n",
       "<style scoped>\n",
       "    .dataframe tbody tr th:only-of-type {\n",
       "        vertical-align: middle;\n",
       "    }\n",
       "\n",
       "    .dataframe tbody tr th {\n",
       "        vertical-align: top;\n",
       "    }\n",
       "\n",
       "    .dataframe thead th {\n",
       "        text-align: right;\n",
       "    }\n",
       "</style>\n",
       "<table border=\"1\" class=\"dataframe\">\n",
       "  <thead>\n",
       "    <tr style=\"text-align: right;\">\n",
       "      <th></th>\n",
       "      <th>id</th>\n",
       "      <th>title</th>\n",
       "      <th>author</th>\n",
       "      <th>text</th>\n",
       "      <th>label</th>\n",
       "    </tr>\n",
       "  </thead>\n",
       "  <tbody>\n",
       "    <tr>\n",
       "      <th>0</th>\n",
       "      <td>0</td>\n",
       "      <td>House Dem Aide: We Didn’t Even See Comey’s Let...</td>\n",
       "      <td>Darrell Lucus</td>\n",
       "      <td>House Dem Aide: We Didn’t Even See Comey’s Let...</td>\n",
       "      <td>1</td>\n",
       "    </tr>\n",
       "    <tr>\n",
       "      <th>1</th>\n",
       "      <td>1</td>\n",
       "      <td>FLYNN: Hillary Clinton, Big Woman on Campus - ...</td>\n",
       "      <td>Daniel J. Flynn</td>\n",
       "      <td>Ever get the feeling your life circles the rou...</td>\n",
       "      <td>0</td>\n",
       "    </tr>\n",
       "    <tr>\n",
       "      <th>2</th>\n",
       "      <td>2</td>\n",
       "      <td>Why the Truth Might Get You Fired</td>\n",
       "      <td>Consortiumnews.com</td>\n",
       "      <td>Why the Truth Might Get You Fired October 29, ...</td>\n",
       "      <td>1</td>\n",
       "    </tr>\n",
       "    <tr>\n",
       "      <th>3</th>\n",
       "      <td>3</td>\n",
       "      <td>15 Civilians Killed In Single US Airstrike Hav...</td>\n",
       "      <td>Jessica Purkiss</td>\n",
       "      <td>Videos 15 Civilians Killed In Single US Airstr...</td>\n",
       "      <td>1</td>\n",
       "    </tr>\n",
       "    <tr>\n",
       "      <th>4</th>\n",
       "      <td>4</td>\n",
       "      <td>Iranian woman jailed for fictional unpublished...</td>\n",
       "      <td>Howard Portnoy</td>\n",
       "      <td>Print \\nAn Iranian woman has been sentenced to...</td>\n",
       "      <td>1</td>\n",
       "    </tr>\n",
       "  </tbody>\n",
       "</table>\n",
       "</div>"
      ],
      "text/plain": [
       "   id                                              title              author  \\\n",
       "0   0  House Dem Aide: We Didn’t Even See Comey’s Let...       Darrell Lucus   \n",
       "1   1  FLYNN: Hillary Clinton, Big Woman on Campus - ...     Daniel J. Flynn   \n",
       "2   2                  Why the Truth Might Get You Fired  Consortiumnews.com   \n",
       "3   3  15 Civilians Killed In Single US Airstrike Hav...     Jessica Purkiss   \n",
       "4   4  Iranian woman jailed for fictional unpublished...      Howard Portnoy   \n",
       "\n",
       "                                                text  label  \n",
       "0  House Dem Aide: We Didn’t Even See Comey’s Let...      1  \n",
       "1  Ever get the feeling your life circles the rou...      0  \n",
       "2  Why the Truth Might Get You Fired October 29, ...      1  \n",
       "3  Videos 15 Civilians Killed In Single US Airstr...      1  \n",
       "4  Print \\nAn Iranian woman has been sentenced to...      1  "
      ]
     },
     "execution_count": 60,
     "metadata": {},
     "output_type": "execute_result"
    }
   ],
   "source": [
    "df = pd.read_csv(\"fake_train.csv\")\n",
    "df.head()"
   ]
  },
  {
   "cell_type": "markdown",
   "metadata": {},
   "source": [
    "### 2. Data pre-processing "
   ]
  },
  {
   "cell_type": "code",
   "execution_count": 61,
   "metadata": {},
   "outputs": [],
   "source": [
    "del df[\"id\"]\n",
    "df.dropna(subset=[\"text\"], axis=0, inplace=True)"
   ]
  },
  {
   "cell_type": "code",
   "execution_count": 62,
   "metadata": {},
   "outputs": [
    {
     "name": "stdout",
     "output_type": "stream",
     "text": [
      "Pam Key                243\n",
      "admin                  193\n",
      "Jerome Hudson          166\n",
      "Charlie Spiering       141\n",
      "John Hayward           140\n",
      "Katherine Rodriguez    124\n",
      "Warner Todd Huston     122\n",
      "Ian Hanchett           119\n",
      "Breitbart News         118\n",
      "Daniel Nussbaum        112\n",
      "Name: author, dtype: int64\n"
     ]
    }
   ],
   "source": [
    "topauthor = df.author.value_counts()[:10]\n",
    "print(topauthor)"
   ]
  },
  {
   "cell_type": "code",
   "execution_count": 63,
   "metadata": {},
   "outputs": [
    {
     "name": "stdout",
     "output_type": "stream",
     "text": [
      "admin                                    193\n",
      "Pakalert                                  86\n",
      "Eddy Lavine                               85\n",
      "Starkman                                  84\n",
      "Gillian                                   82\n",
      "Alex Ansary                               82\n",
      "Editor                                    81\n",
      "noreply@blogger.com (Alexander Light)     80\n",
      "Dave Hodges                               77\n",
      "Anonymous                                 77\n",
      "Name: author, dtype: int64\n"
     ]
    }
   ],
   "source": [
    "faketop = df[df.label == 1].author.value_counts()[:10]\n",
    "print(faketop)"
   ]
  },
  {
   "cell_type": "code",
   "execution_count": 64,
   "metadata": {},
   "outputs": [
    {
     "name": "stdout",
     "output_type": "stream",
     "text": [
      "Pam Key                242\n",
      "Jerome Hudson          166\n",
      "Charlie Spiering       141\n",
      "John Hayward           140\n",
      "Katherine Rodriguez    124\n",
      "Warner Todd Huston     122\n",
      "Ian Hanchett           119\n",
      "Breitbart News         118\n",
      "Daniel Nussbaum        112\n",
      "AWR Hawkins            107\n",
      "Name: author, dtype: int64\n"
     ]
    }
   ],
   "source": [
    "realtop = df[df.label == 0].author.value_counts()[:10]\n",
    "print(realtop)"
   ]
  },
  {
   "cell_type": "code",
   "execution_count": 82,
   "metadata": {},
   "outputs": [],
   "source": [
    "# IncreasingUsing both columns to increase the corpus of words\n",
    "df['title_text'] = df['title'] + ' ' + df['text']"
   ]
  },
  {
   "cell_type": "code",
   "execution_count": 19,
   "metadata": {},
   "outputs": [
    {
     "data": {
      "text/plain": [
       "'News: Hope For The GOP: A Nude Paul Ryan Has Just Emerged From An Ayahuasca Tent With Visions Of A New Republican Party Email \\nSince Donald Trump entered the election over a year ago, he has single-handedly destroyed the GOP, leaving both the House and the Senate in utter disarray. But although many political strategists believe permanent damage has been done, conservatives shouldn’t lose hope yet, because Speaker of the House Paul Ryan has just emerged fully nude from an ayahuasca tent with visions of a new Republican Party. \\nA fresh GOP platform requires fresh leadership, and when Speaker Ryan journeyed to South America last week to embark on an immersive psychedelic vision quest of political rebirth, he just proved he’s the only one for the job. \\nAfter traveling to Peru and entering a makeshift tent with nothing but a towel, 200 mg of DMT, and a bucket to vomit in, Paul Ryan (R-Wis.) spent the last 12 hours lying nude on the jungle floor, enduring bursts of vivid consciousness in which he watched the secrets of a unified, more moderate GOP unfold before his very eyes. \\nWhile under the influence of the powerful psychedelic, ancient spiritual guides appeared before the congressman, instructed him to remove his clothes, and held him down as lifelike projections of Republican leaders twisted and contorted around him until the perfect cabinet had revealed itself amid infinite realities in which tax cuts and fiscal budgets exploded into cacophonous symphonies, all to create a Republican Party that mobilizes key voter constituencies. \\nCheck out these tweets he posted just a few moments after emerging nude from his tent in the Amazon rain forest! \\nWhoa. Democrats have been pretty confident this past year, but if Paul Ryan’s visions of the Republican party are right, they better watch out! \\nSay what you want about Paul Ryan, but he’s a man who refuses to give up. On the one hand, is it possible that the speaker’s grand ayahuasca visions of a new Republican Party are just a temporary fix? Sure. But on the other hand, if he plays his cards right, his proposals could have an even larger impact than they did during the thousands of years he lived while trapped inside his own mind. \\nOne thing is for sure: Paul Ryan emerged fully nude from that ayahuasca tent with a new perspective, and people are starting to take notice.'"
      ]
     },
     "execution_count": 19,
     "metadata": {},
     "output_type": "execute_result"
    }
   ],
   "source": [
    "df['title_text'][20]"
   ]
  },
  {
   "cell_type": "code",
   "execution_count": 66,
   "metadata": {},
   "outputs": [],
   "source": [
    "df['title_text']=df['title_text'].apply(str)"
   ]
  },
  {
   "cell_type": "code",
   "execution_count": 67,
   "metadata": {},
   "outputs": [],
   "source": [
    "#Processing the text as per standart NLP techniques\n",
    "def preprocessor(text):\n",
    "    \n",
    "    text = re.sub('<[^>]*>', '', text)\n",
    "    text = re.sub(r'[^\\w\\s]','', text)\n",
    "    text = text.lower()\n",
    "    return text\n",
    "    \n",
    "df['title_text'] = df['title_text'].apply(preprocessor)"
   ]
  },
  {
   "cell_type": "code",
   "execution_count": 23,
   "metadata": {},
   "outputs": [
    {
     "data": {
      "text/plain": [
       "'news hope for the gop a nude paul ryan has just emerged from an ayahuasca tent with visions of a new republican party email \\nsince donald trump entered the election over a year ago he has singlehandedly destroyed the gop leaving both the house and the senate in utter disarray but although many political strategists believe permanent damage has been done conservatives shouldnt lose hope yet because speaker of the house paul ryan has just emerged fully nude from an ayahuasca tent with visions of a new republican party \\na fresh gop platform requires fresh leadership and when speaker ryan journeyed to south america last week to embark on an immersive psychedelic vision quest of political rebirth he just proved hes the only one for the job \\nafter traveling to peru and entering a makeshift tent with nothing but a towel 200 mg of dmt and a bucket to vomit in paul ryan rwis spent the last 12 hours lying nude on the jungle floor enduring bursts of vivid consciousness in which he watched the secrets of a unified more moderate gop unfold before his very eyes \\nwhile under the influence of the powerful psychedelic ancient spiritual guides appeared before the congressman instructed him to remove his clothes and held him down as lifelike projections of republican leaders twisted and contorted around him until the perfect cabinet had revealed itself amid infinite realities in which tax cuts and fiscal budgets exploded into cacophonous symphonies all to create a republican party that mobilizes key voter constituencies \\ncheck out these tweets he posted just a few moments after emerging nude from his tent in the amazon rain forest \\nwhoa democrats have been pretty confident this past year but if paul ryans visions of the republican party are right they better watch out \\nsay what you want about paul ryan but hes a man who refuses to give up on the one hand is it possible that the speakers grand ayahuasca visions of a new republican party are just a temporary fix sure but on the other hand if he plays his cards right his proposals could have an even larger impact than they did during the thousands of years he lived while trapped inside his own mind \\none thing is for sure paul ryan emerged fully nude from that ayahuasca tent with a new perspective and people are starting to take notice'"
      ]
     },
     "execution_count": 23,
     "metadata": {},
     "output_type": "execute_result"
    }
   ],
   "source": [
    "df['title_text'][20]"
   ]
  },
  {
   "cell_type": "code",
   "execution_count": 68,
   "metadata": {},
   "outputs": [],
   "source": [
    "porter = PorterStemmer()\n",
    "def tokenizer_porter(text):\n",
    "    return [porter.stem(word) for word in text.split()]"
   ]
  },
  {
   "cell_type": "markdown",
   "metadata": {},
   "source": [
    "### 3. Model training and evaluation"
   ]
  },
  {
   "cell_type": "code",
   "execution_count": 81,
   "metadata": {},
   "outputs": [
    {
     "name": "stdout",
     "output_type": "stream",
     "text": [
      "TF-IDF Vectorization of the corpus is scomplete\n"
     ]
    },
    {
     "name": "stderr",
     "output_type": "stream",
     "text": [
      "[Parallel(n_jobs=-1)]: Using backend LokyBackend with 16 concurrent workers.\n",
      "[Parallel(n_jobs=-1)]: Done   2 out of   5 | elapsed:   45.5s remaining:  1.1min\n",
      "[Parallel(n_jobs=-1)]: Done   5 out of   5 | elapsed:   51.8s finished\n"
     ]
    },
    {
     "name": "stdout",
     "output_type": "stream",
     "text": [
      "Training time for the model is: 278.7s\n"
     ]
    }
   ],
   "source": [
    "start_time = datetime.now()\n",
    "\n",
    "#Training the tf-idf vectorization\n",
    "tfidf = TfidfVectorizer(strip_accents=None,\n",
    "                        lowercase=False,\n",
    "                        preprocessor=None,\n",
    "                        tokenizer=tokenizer_porter,\n",
    "                        use_idf=True,\n",
    "                        norm='l2',\n",
    "                        smooth_idf=True)\n",
    "X = tfidf.fit_transform(df['title_text'])\n",
    "y = df.label.values\n",
    "print(\"TF-IDF Vectorization of the corpus is scomplete\")\n",
    "\n",
    "X_train, X_test, y_train, y_test = train_test_split(X, y, random_state=42, test_size=0.1, shuffle=True)\n",
    "\n",
    "#Training Logistic Regressoin\n",
    "clf = LogisticRegressionCV(cv=5, scoring='accuracy', random_state=42, n_jobs=-1, verbose=3, max_iter=3000).fit(X_train, y_train)\n",
    "\n",
    "end_time = datetime.now()\n",
    "training_time_tfidfLR = (end_time - start_time).total_seconds()\n",
    "\n",
    "#Saving the model\n",
    "fake_news_model = open('fake_news_model.sav', 'wb')\n",
    "pickle.dump(clf, fake_news_model)\n",
    "fake_news_model.close()\n",
    "print('Training time for the model is: {:.1f}s'.format(training_time_tfidfLR))"
   ]
  },
  {
   "cell_type": "code",
   "execution_count": 77,
   "metadata": {
    "scrolled": true
   },
   "outputs": [
    {
     "name": "stdout",
     "output_type": "stream",
     "text": [
      "              precision    recall  f1-score   support\n",
      "\n",
      "           0       0.98      0.97      0.97      1049\n",
      "           1       0.97      0.98      0.97      1028\n",
      "\n",
      "    accuracy                           0.97      2077\n",
      "   macro avg       0.97      0.97      0.97      2077\n",
      "weighted avg       0.97      0.97      0.97      2077\n",
      "\n"
     ]
    }
   ],
   "source": [
    "filename = 'fake_news_model.sav'\n",
    "saved_clf = pickle.load(open(filename, 'rb'))\n",
    "LR_prediction = saved_clf.predict(X_test)\n",
    "print(classification_report(y_test, LR_prediction))"
   ]
  }
 ],
 "metadata": {
  "kernelspec": {
   "display_name": "Python 3 (ipykernel)",
   "language": "python",
   "name": "python3"
  },
  "language_info": {
   "codemirror_mode": {
    "name": "ipython",
    "version": 3
   },
   "file_extension": ".py",
   "mimetype": "text/x-python",
   "name": "python",
   "nbconvert_exporter": "python",
   "pygments_lexer": "ipython3",
   "version": "3.8.8"
  }
 },
 "nbformat": 4,
 "nbformat_minor": 1
}
